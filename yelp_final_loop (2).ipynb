{
 "cells": [
  {
   "cell_type": "code",
   "execution_count": 5,
   "metadata": {},
   "outputs": [
    {
     "name": "stdout",
     "output_type": "stream",
     "text": [
      "0\n",
      "20\n",
      "40\n"
     ]
    }
   ],
   "source": [
    "####Complete Code\n",
    "\n",
    "\n",
    "\n",
    "##complete\n",
    "from bs4 import BeautifulSoup\n",
    "import requests \n",
    "from urllib.request import urlopen\n",
    "from selenium.webdriver import ActionChains\n",
    "from selenium import webdriver\n",
    "import pandas as pd\n",
    "\n",
    "from selenium import webdriver\n",
    "from bs4 import BeautifulSoup\n",
    "import pandas as pd\n",
    "from scrapy.http import HtmlResponse\n",
    "from selenium import webdriver\n",
    "import pandas as pd\n",
    "import time\n",
    "from datetime import date, timedelta, datetime\n",
    "from selenium.common.exceptions import NoSuchElementException\n",
    "options = webdriver.ChromeOptions()\n",
    "\n",
    "\n",
    "from selenium import webdriver\n",
    "from bs4 import BeautifulSoup\n",
    "import pandas as pd\n",
    "from selenium.webdriver import ActionChains\n",
    "\n",
    "\n",
    "driver = webdriver.Chrome(r'C:\\Users\\prerana.a.singh\\Downloads\\chromedriver_win32 (1)\\chromedriver.exe',options=options)\n",
    "\n",
    "import time\n",
    "time.sleep(10)\n",
    "\n",
    "\n",
    "for i in range(0, 60, 20):\n",
    "    print(i)\n",
    "    driver.get(\"https://www.yelp.com/biz/boston-university-boston-2?start=\"+str(i)+\"&sort_by=date_desc\")\n",
    "    \n",
    "    #url = urlopen(\"https://www.graduateprograms.com/schools/tufts-university?page=10\")\n",
    "    #url = urlopen(\"https://www.yelp.com/biz/tufts-university-medford-somerville-campus-medford-5\")\n",
    "    #print(url.read())\n",
    "    time.sleep(10)\n",
    "    \n",
    "    \n",
    "    \n",
    "    content = driver.page_source\n",
    "    soup = BeautifulSoup(content)\n",
    "    #print(soup)\n",
    "    \n",
    "    \n",
    "    \n",
    "    \n",
    "    reviews1 = soup.findAll('p', {'class':\"lemon--p__373c0__3Qnnj text__373c0__2Kxyz comment__373c0__3EKjH text-color--normal__373c0__3xep9 text-align--left__373c0__2XGa-\"})\n",
    "    #reviews1\n",
    "    \n",
    "    Location = soup.findAll('div',{'class':\"lemon--div__373c0__1mboc responsive-hidden-small__373c0__2vDff border-color--default__373c0__3-ifU\"})\n",
    "    \n",
    "    \n",
    "    Date = soup.findAll('span',{'class':'lemon--span__373c0__3997G text__373c0__2Kxyz text-color--mid__373c0__jCeOG text-align--left__373c0__2XGa-'})\n",
    "    \n",
    "    \n",
    "    \n",
    "    df = pd.DataFrame(list(zip(reviews1,Date,Location)))\n",
    "    \n",
    "    df.to_excel(r'C:\\Users\\prerana.a.singh\\Documents\\test'+str(i)+'_yelpreviews_complete0'+'.xlsx')\n",
    "\n"
   ]
  },
  {
   "cell_type": "code",
   "execution_count": null,
   "metadata": {},
   "outputs": [],
   "source": []
  }
 ],
 "metadata": {
  "kernelspec": {
   "display_name": "Python 3",
   "language": "python",
   "name": "python3"
  },
  "language_info": {
   "codemirror_mode": {
    "name": "ipython",
    "version": 3
   },
   "file_extension": ".py",
   "mimetype": "text/x-python",
   "name": "python",
   "nbconvert_exporter": "python",
   "pygments_lexer": "ipython3",
   "version": "3.7.4"
  }
 },
 "nbformat": 4,
 "nbformat_minor": 2
}
